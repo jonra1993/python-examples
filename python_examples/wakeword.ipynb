{
 "cells": [
  {
   "cell_type": "code",
   "execution_count": null,
   "metadata": {},
   "outputs": [],
   "source": [
    "# Install a pip package in the current Jupyter kernel\n",
    "import sys\n",
    "!{sys.executable} -m pip install python_speech_features librosa matplotlib playsound PyObjC"
   ]
  },
  {
   "cell_type": "code",
   "execution_count": 2,
   "metadata": {},
   "outputs": [],
   "source": [
    "from os import listdir\n",
    "from os.path import isdir, join\n",
    "import librosa\n",
    "import random\n",
    "import numpy as np\n",
    "import matplotlib.pyplot as plt\n",
    "import python_speech_features"
   ]
  },
  {
   "cell_type": "code",
   "execution_count": 3,
   "metadata": {},
   "outputs": [],
   "source": [
    "# Dataset path and view possible targets\n",
    "dataset_path = '/Users/jona/Documents/Github/Community/python-examples/python_examples/models/data_speech_commands_v0.02'\n",
    "for name in listdir(dataset_path):\n",
    "    if isdir(join(dataset_path, name)):\n",
    "        pass\n",
    "        # print(name)"
   ]
  },
  {
   "cell_type": "code",
   "execution_count": 8,
   "metadata": {},
   "outputs": [
    {
     "name": "stdout",
     "output_type": "stream",
     "text": [
      "['right', 'eight', 'cat', 'tree', 'backward', 'learn', 'bed', 'happy', 'go', 'dog', 'no', 'wow', 'follow', 'nine', 'left', 'stop', 'three', '_background_noise_', 'sheila', 'one', 'bird', 'zero', 'seven', 'up', 'visual', 'marvin', 'two', 'house', 'down', 'six', 'yes', 'on', 'five', 'forward', 'off', 'four']\n"
     ]
    }
   ],
   "source": [
    "# Create an all targets list\n",
    "all_targets = [name for name in listdir(dataset_path) if isdir(join(dataset_path, name))]\n",
    "print(all_targets)"
   ]
  },
  {
   "cell_type": "code",
   "execution_count": 9,
   "metadata": {},
   "outputs": [
    {
     "name": "stdout",
     "output_type": "stream",
     "text": [
      "['right', 'eight', 'cat', 'tree', 'backward', 'learn', 'bed', 'happy', 'go', 'dog', 'no', 'wow', 'follow', 'nine', 'left', 'stop', 'three', 'sheila', 'one', 'bird', 'zero', 'seven', 'up', 'visual', 'marvin', 'two', 'house', 'down', 'six', 'yes', 'on', 'five', 'forward', 'off', 'four']\n"
     ]
    }
   ],
   "source": [
    "# Leave off background noise set\n",
    "all_targets.remove('_background_noise_')\n",
    "print(all_targets)"
   ]
  },
  {
   "cell_type": "code",
   "execution_count": 10,
   "metadata": {},
   "outputs": [
    {
     "name": "stdout",
     "output_type": "stream",
     "text": [
      "Total samples: 105829\n"
     ]
    }
   ],
   "source": [
    "# See how many files are in each\n",
    "num_samples = 0\n",
    "for target in all_targets:\n",
    "    # print(len(listdir(join(dataset_path, target))))\n",
    "    num_samples += len(listdir(join(dataset_path, target)))\n",
    "print('Total samples:', num_samples)"
   ]
  },
  {
   "cell_type": "code",
   "execution_count": 73,
   "metadata": {},
   "outputs": [],
   "source": [
    "# Settings\n",
    "target_list = all_targets\n",
    "feature_sets_file = 'all_targets_mfcc_sets.npz'\n",
    "perc_keep_samples = 1.0 # 1.0 is keep all samples\n",
    "val_ratio = 0.1\n",
    "test_ratio = 0.1\n",
    "sample_rate = 8000\n",
    "num_mfcc = 16\n",
    "len_mfcc = 16"
   ]
  },
  {
   "cell_type": "code",
   "execution_count": 80,
   "metadata": {},
   "outputs": [],
   "source": [
    "# Create list of filenames along with ground truth vector (y)\n",
    "filenames = []\n",
    "absolute_path = []\n",
    "y = []\n",
    "for index, target in enumerate(target_list):\n",
    "    # print(join(dataset_path, target))\n",
    "    filesn = listdir(join(dataset_path, target))\n",
    "    filenames.append(filesn)\n",
    "    files = [{\n",
    "        \"id\": x,\n",
    "        \"is_hotword\": 1 if target == 'bird' else 0, \n",
    "        \"worker_id\": 12, \n",
    "        \"duration\": 1.86, \n",
    "        \"audio_file_path\": join(dataset_path, target, x), \n",
    "    } for x in filesn]\n",
    "    absolute_path.extend(files)\n",
    "    y.append(np.ones(len(filenames[index])) * index)\n",
    "\n",
    "# print(absolute_path)"
   ]
  },
  {
   "cell_type": "code",
   "execution_count": 81,
   "metadata": {},
   "outputs": [],
   "source": [
    "# Calculate validation and test set sizes\n",
    "absolute_path = absolute_path[:int(len(absolute_path) * 0.1)]\n",
    "\n",
    "val_set_size = int(len(absolute_path) * val_ratio)\n",
    "test_set_size = int(len(absolute_path) * test_ratio)\n",
    "# Break dataset apart into train, validation, and test sets\n",
    "absolute_path_dev = absolute_path[:val_set_size]\n",
    "absolute_path_test = absolute_path[val_set_size:(val_set_size + test_set_size)]\n",
    "absolute_path_train = absolute_path[(val_set_size + test_set_size):]"
   ]
  },
  {
   "cell_type": "code",
   "execution_count": 82,
   "metadata": {},
   "outputs": [],
   "source": [
    "import json\n",
    "with open('train.json', 'w') as json_file:\n",
    "    json.dump(absolute_path_train, json_file)\n",
    "with open('test.json', 'w') as json_file:\n",
    "    json.dump(absolute_path_test, json_file)\n",
    "with open('dev.json', 'w') as json_file:\n",
    "    json.dump(absolute_path_dev, json_file)"
   ]
  }
 ],
 "metadata": {
  "interpreter": {
   "hash": "7ad68b2d90310cc049837da062eec01f184d92a6028a21ede4c7520daa559756"
  },
  "kernelspec": {
   "display_name": "Python 3.9.10 ('python-examples-kKjz5q0M-py3.9')",
   "language": "python",
   "name": "python3"
  },
  "language_info": {
   "codemirror_mode": {
    "name": "ipython",
    "version": 3
   },
   "file_extension": ".py",
   "mimetype": "text/x-python",
   "name": "python",
   "nbconvert_exporter": "python",
   "pygments_lexer": "ipython3",
   "version": "3.9.10"
  },
  "orig_nbformat": 4
 },
 "nbformat": 4,
 "nbformat_minor": 2
}
